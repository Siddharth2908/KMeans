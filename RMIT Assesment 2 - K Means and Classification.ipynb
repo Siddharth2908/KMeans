{
 "cells": [
  {
   "cell_type": "markdown",
   "metadata": {},
   "source": [
    "Parkinson’s Disease (PD) is a degenerative neurological disorder marked by decreased dopamine levels in the brain. It manifests itself through a deterioration of movement, including the presence of tremors and stiffness. There is commonly a marked effect on speech, including dysarthria (difficulty articulating sounds), hypophonia (lowered volume), and monotone (reduced pitch range). Additionally, cognitive impairments and changes in mood can occur, and risk of dementia is increased.\n",
    "\n",
    "\n",
    "Traditional diagnosis of Parkinson’s Disease involves a clinician taking a neurological history of the patient and observing motor skills in various situations. Since there is no definitive laboratory test to diagnose PD, diagnosis is often difficult, particularly in the early stages when motor effects are not yet severe. Monitoring progression of the disease over time requires repeated clinic visits by the patient. An effective screening process, particularly one that doesn’t require a clinic visit, would be beneficial. Since PD patients exhibit characteristic vocal features, voice recordings are a useful and non-invasive tool for diagnosis. If machine learning algorithms could be applied to a voice recording dataset to accurately diagnosis PD, this would be an effective screening step prior to an appointment with a clinician.\n",
    "\n",
    "\n",
    "1. name - ASCII subject name and recording number\n",
    "2. MDVP:Fo(Hz) - Average vocal fundamental frequency\n",
    "3. MDVP:Fhi(Hz) - Maximum vocal fundamental frequency\n",
    "4. MDVP:Flo(Hz) - Minimum vocal fundamental frequency\n",
    "5. MDVP:Jitter(%),MDVP:Jitter(Abs),MDVP:RAP,MDVP:PPQ,Jitter:DDP - Several measures of variation in fundamental frequency\n",
    "6. MDVP:Shimmer,MDVP:Shimmer(dB),Shimmer:APQ3,Shimmer:APQ5,MDVP:APQ,Shimmer:DDA - Several measures of variation in amplitude\n",
    "7. NHR,HNR - Two measures of ratio of noise to tonal components in the voice\n",
    "8. status - Health status of the subject (one) - Parkinson's, (zero) - healthy\n",
    "9. RPDE,D2 - Two nonlinear dynamical complexity measures\n",
    "10. DFA - Signal fractal scaling exponent\n",
    "11. spread1,spread2,PPE - Three nonlinear measures of fundamental frequency variation\n",
    "\n",
    "\n",
    "\n",
    "The data consists of those diagnosed with Parkinson Disease and those who do not."
   ]
  },
  {
   "cell_type": "code",
   "execution_count": 1,
   "metadata": {},
   "outputs": [
    {
     "ename": "ModuleNotFoundError",
     "evalue": "No module named 'seaborn'",
     "output_type": "error",
     "traceback": [
      "\u001b[1;31m---------------------------------------------------------------------------\u001b[0m",
      "\u001b[1;31mModuleNotFoundError\u001b[0m                       Traceback (most recent call last)",
      "\u001b[1;32m<ipython-input-1-0992aa559e2a>\u001b[0m in \u001b[0;36m<module>\u001b[1;34m()\u001b[0m\n\u001b[0;32m      5\u001b[0m \u001b[1;32mimport\u001b[0m \u001b[0mmatplotlib\u001b[0m\u001b[1;33m.\u001b[0m\u001b[0mpyplot\u001b[0m \u001b[1;32mas\u001b[0m \u001b[0mmatplot\u001b[0m\u001b[1;33m\u001b[0m\u001b[0m\n\u001b[0;32m      6\u001b[0m \u001b[0mget_ipython\u001b[0m\u001b[1;33m(\u001b[0m\u001b[1;33m)\u001b[0m\u001b[1;33m.\u001b[0m\u001b[0mrun_line_magic\u001b[0m\u001b[1;33m(\u001b[0m\u001b[1;34m'matplotlib'\u001b[0m\u001b[1;33m,\u001b[0m \u001b[1;34m'inline'\u001b[0m\u001b[1;33m)\u001b[0m\u001b[1;33m\u001b[0m\u001b[0m\n\u001b[1;32m----> 7\u001b[1;33m \u001b[1;32mimport\u001b[0m \u001b[0mseaborn\u001b[0m \u001b[1;32mas\u001b[0m \u001b[0msns\u001b[0m\u001b[1;33m\u001b[0m\u001b[0m\n\u001b[0m\u001b[0;32m      8\u001b[0m \u001b[1;32mimport\u001b[0m \u001b[0mwarnings\u001b[0m\u001b[1;33m\u001b[0m\u001b[0m\n\u001b[0;32m      9\u001b[0m \u001b[0mwarnings\u001b[0m\u001b[1;33m.\u001b[0m\u001b[0mfilterwarnings\u001b[0m\u001b[1;33m(\u001b[0m\u001b[1;34m'ignore'\u001b[0m\u001b[1;33m)\u001b[0m\u001b[1;33m\u001b[0m\u001b[0m\n",
      "\u001b[1;31mModuleNotFoundError\u001b[0m: No module named 'seaborn'"
     ]
    }
   ],
   "source": [
    "#Import all the necessary modules\n",
    "import pandas as pandas\n",
    "import numpy as numpy\n",
    "import os\n",
    "import matplotlib.pyplot as matplot\n",
    "%matplotlib inline\n",
    "import seaborn as sns\n",
    "import warnings\n",
    "warnings.filterwarnings('ignore')\n",
    "from sklearn.linear_model import LogisticRegression\n",
    "from sklearn.metrics import classification_report,confusion_matrix\n",
    "#from sklearn.tree import DecisionTreeClassifier\n",
    "from sklearn.model_selection import train_test_split\n",
    "from sklearn import metrics\n",
    "from sklearn.ensemble import RandomForestClassifier\n",
    "import itertools\n",
    "from IPython.display import Image  \n",
    "from sklearn import tree\n",
    "from os import system\n",
    "from Custom import Perform_EDA as EDA\n",
    "import numpy as np\n",
    "import pandas as pd\n",
    "from scipy.stats import levene, shapiro, f_oneway\n",
    "import matplotlib.pyplot as plt\n",
    "from statsmodels.formula.api import ols\n",
    "from statsmodels.stats.anova import anova_lm\n",
    "from sklearn.naive_bayes import GaussianNB\n",
    "from sklearn.neighbors import KNeighborsClassifier\n",
    "from sklearn import svm\n",
    "from matplotlib.colors import ListedColormap\n",
    "from sklearn.metrics import accuracy_score\n",
    "from sklearn.tree import DecisionTreeClassifier\n",
    "from Custom import Build_Model as Build_Model\n",
    "from sklearn.model_selection import GridSearchCV\n",
    "\n",
    "from sklearn.metrics import silhouette_samples, silhouette_score\n",
    "from sklearn.cluster import KMeans\n",
    "import matplotlib.cm as cm\n",
    "numpy.random.seed(2345)"
   ]
  },
  {
   "cell_type": "code",
   "execution_count": null,
   "metadata": {},
   "outputs": [],
   "source": [
    "def plot_confusion_matrix(Y_test,Y_predict, target_names,title='Confusion matrix',cmap=None,normalize=True):\n",
    "    cm = metrics.confusion_matrix(Y_test, Y_predict)\n",
    "    accuracy = numpy.trace(cm) / float(numpy.sum(cm))\n",
    "    misclass = 1 - accuracy\n",
    "\n",
    "    if cmap is None:\n",
    "        cmap = matplot.get_cmap('Blues')\n",
    "\n",
    "    matplot.figure(figsize=(8, 6))\n",
    "    matplot.imshow(cm, interpolation='nearest', cmap=cmap)\n",
    "    matplot.title(title)\n",
    "    matplot.colorbar()\n",
    "\n",
    "    if target_names is not None:\n",
    "        tick_marks = numpy.arange(len(target_names))\n",
    "        matplot.xticks(tick_marks, target_names, rotation=45)\n",
    "        matplot.yticks(tick_marks, target_names)\n",
    "\n",
    "    if normalize:\n",
    "        cm = cm.astype('float') / cm.sum(axis=1)[:, numpy.newaxis]\n",
    "\n",
    "\n",
    "    thresh = cm.max() / 1.5 if normalize else cm.max() / 2\n",
    "    for i, j in itertools.product(range(cm.shape[0]), range(cm.shape[1])):\n",
    "        if normalize:\n",
    "            matplot.text(j, i, \"{:0.4f}\".format(cm[i, j]),\n",
    "                     horizontalalignment=\"center\",\n",
    "                     color=\"white\" if cm[i, j] > thresh else \"black\")\n",
    "        else:\n",
    "            matplot.text(j, i, \"{:,}\".format(cm[i, j]),\n",
    "                     horizontalalignment=\"center\",\n",
    "                     color=\"white\" if cm[i, j] > thresh else \"black\")\n",
    "\n",
    "\n",
    "    matplot.tight_layout()\n",
    "    matplot.ylabel('True label')\n",
    "    matplot.xlabel('Predicted label\\naccuracy={:0.4f}; misclass={:0.4f}'.format(accuracy, misclass))\n",
    "    matplot.show()\n",
    "    print(metrics.classification_report(Y_test, Y_predict))\n",
    "    model_performance = [metrics.accuracy_score(Y_test, Y_predict),metrics.recall_score(Y_test, Y_predict),\n",
    "                         metrics.precision_score(Y_test, Y_predict),metrics.f1_score(Y_test, Y_predict) ]\n",
    "    accuracy_report = pandas.DataFrame(model_performance, columns=['Model_Performance'], \n",
    "                                   index=['Accuracy','Recall','Precision','f1_Score'])\n",
    "    return accuracy_report"
   ]
  },
  {
   "cell_type": "markdown",
   "metadata": {},
   "source": [
    "Defined set of Visualization, EDA functions for ease of analysis"
   ]
  },
  {
   "cell_type": "code",
   "execution_count": null,
   "metadata": {},
   "outputs": [],
   "source": [
    "Source = pandas.read_csv(\"parkinsons_data.csv\")"
   ]
  },
  {
   "cell_type": "markdown",
   "metadata": {},
   "source": [
    "# Understand the data set"
   ]
  },
  {
   "cell_type": "markdown",
   "metadata": {},
   "source": [
    "Approach :\n",
    "    \n",
    "Data skimmed through to see what are the variables present, data type, shape, column names, mixed data types, missing values etc\n"
   ]
  },
  {
   "cell_type": "code",
   "execution_count": null,
   "metadata": {},
   "outputs": [],
   "source": [
    "Source.head()"
   ]
  },
  {
   "cell_type": "code",
   "execution_count": null,
   "metadata": {},
   "outputs": [],
   "source": [
    "Source.info()"
   ]
  },
  {
   "cell_type": "code",
   "execution_count": null,
   "metadata": {},
   "outputs": [],
   "source": [
    "Source.shape"
   ]
  },
  {
   "cell_type": "code",
   "execution_count": null,
   "metadata": {},
   "outputs": [],
   "source": [
    "Source[\"status\"].value_counts()"
   ]
  },
  {
   "cell_type": "code",
   "execution_count": null,
   "metadata": {},
   "outputs": [],
   "source": [
    "147/185"
   ]
  },
  {
   "cell_type": "code",
   "execution_count": null,
   "metadata": {},
   "outputs": [],
   "source": [
    "Source[\"status\"] = pandas.Categorical(Source[\"status\"])"
   ]
  },
  {
   "cell_type": "code",
   "execution_count": null,
   "metadata": {},
   "outputs": [],
   "source": [
    "Source.info()"
   ]
  },
  {
   "cell_type": "raw",
   "metadata": {},
   "source": [
    "Inference:\n",
    "\n",
    "1. 24 Variables - 1 object, 1 - 0/1, 22 - float\n",
    "2. Total records of 195 with 24 columns\n",
    "3. Since for each patient 6 recordings have been taken, there may potentially be sample bias as for each of the row in 6      samples/patient, the result can be the same\n",
    "4. Since many variables in the data set are variants in one form or the other, for example - MDVP:Jitter(%),MDVP:Jitter(Abs),MDVP:RAP,MDVP:PPQ,Jitter:DDP - are Several measures of variation in fundamental frequency, there will be an inter-relationships between these variables. This means not all variables will be a good predictors.\n",
    "5. The mix of the status (Y) is not adequate i.e 147 out of 195 is \"1\". This means the prediction is highly likely to be 1 due to the sample bias.\n",
    "\n",
    "Hence, accuracy alone will not be a good measure, class level performance will have to be evaluated during model building\n"
   ]
  },
  {
   "cell_type": "markdown",
   "metadata": {},
   "source": [
    "# Exploratory Data Analysis - Data Wrangling and Pre-processing"
   ]
  },
  {
   "cell_type": "markdown",
   "metadata": {},
   "source": [
    "# Approach\n",
    "\n",
    "1. Analyse 5 pont summary, Kurtosis, Skewness and Range\n",
    "2. Analyse the distribution of the data for each variable\n",
    "3. Analyse outliers using Box plot\n",
    "4. Infer the results and assess the impact \n",
    "5. Perform correlation analysis and VIF to determine the relationships between X's\n",
    "6. Determine the data transformation and treatment requirements like missing values, outliers, scaling etc\n",
    "7. Choose the set of predictors which can be used for modelling\n",
    "8. Remove outliers"
   ]
  },
  {
   "cell_type": "code",
   "execution_count": null,
   "metadata": {},
   "outputs": [],
   "source": [
    "EDA.EDA(Source)"
   ]
  },
  {
   "cell_type": "code",
   "execution_count": null,
   "metadata": {
    "scrolled": false
   },
   "outputs": [],
   "source": [
    "EDA.univariate_plots(Source)"
   ]
  },
  {
   "cell_type": "markdown",
   "metadata": {},
   "source": [
    "MDVP:Fo(Hz)\t:\n",
    "1. Range 171.77 and Std Dev 41.39 suggests that there is a large spread of data from the median\n",
    "2. Kurtosis -0.62 suggests that light tails or less data is distributed around the tails. However this is not a strong negative and hence a thin tail can be observed\n",
    "3. Skewness 0.59 suggests that the data is positively skewed. The strength of the skewness is less and hence need to evaluate whether transformation (scalar or log or exp)\n",
    "4. Box plot suggests that there are no outliers in the data albeit the spread is large\n",
    "\n",
    "MDVP:Fhi(Hz)\t:\n",
    "1. Range 489.885 and Std Dev 91.49 suggests that there is a large spread of data from the median and the data may have outliers\n",
    "2. Kurtosis 7.62 suggests that there is a heavy tail and more data points are distributed around the tail. This is evident in the box plot\n",
    "3. Skewness 2.542 suggests that the data is positively skewed. The strength of the skewness is high and hence if this feature is used as predictor, transformation is required\n",
    "4. Box plot suggests that there are outliers in the data and this needs treatment before building model\n",
    "5. Distplot shows there is a slight bi-modal distribution indicating a possible gaussian mixture. This however is a risk that needs to be accepted for this project\n",
    "6. Distplot shows that there is narrow arear where data is distributed \n",
    "\n",
    "MDVP:Flo(Hz) :\n",
    "1. Range 173.69 and std dev 43.52 suggests that the spread of the data is large\n",
    "2. Kurtosis 0.654 suggests that there is strong tail. This is evident in distribution plot and box plot\n",
    "3. Skewness is 1.217 suggests that the data is positively skewed. The strength of the skewness is high & hence if this feature is used as predictor, transformation is required\n",
    "4. Box plot suggests that there are outliers and this needs treatment before building model\n",
    "\n",
    "\n",
    "'MDVP:Jitter(%)' :\n",
    "1. Range 0.031480 and std dev 0.004848 suggests that there is a wide spread of data given the scale of data points\n",
    "2. Kurtosis 12.03 is the 4th highest amongst all 22 variables of the data set indicates a strong tail or large data distribution around the tail. This needs treatment\n",
    "3. Skewness is 3.0849 suggests positive skewness of data. THis is evident in distribution plot and box plot. Data transformation is required to handle this skewness\n",
    "4. The outliers are quite a number for this variable and is evident in box plot\n",
    "\n",
    "'MDVP:Jitter(Abs)' :\n",
    "1. Range 0.000253 and std dev 0.000035 suggests that there is a wide spread of data given the scale of data points\n",
    "2. Kurtosis 10.86 is one of the highest amongst all 22 variables of the data set indicates a strong tail or large data distribution around the tail. This needs treatment\n",
    "3. Skewness is 2.649 suggests positive skewness of data. THis is evident in distribution plot and box plot. Data transformation is required to handle this skewness\n",
    "4. The outliers are quite a number for this variable and is evident in box plot\n",
    "\n",
    "'MDVP:RAP' :\n",
    "1. Range 0.020760 and std dev 0.002968 suggests that there is a fair amount of spread of data given the scale of data points\n",
    "2. Kurtosis 14.213 is the 3rd highest amongst all 22 variables of the data set indicates a strong tail or large data distribution around the tail. This needs treatment\n",
    "3. Skewness is 3.360 suggests positive skewness of data. THis is evident in distribution plot and box plot. Data transformation is required to handle this skewness\n",
    "4. The outliers are quite a number for this variable and is evident in box plot\n",
    "5. The distribution plot indicates 2 small peaks at the long tail indicating possible gaussian miture however since its small, this may or may not impact models\n",
    "\n",
    "'MDVP:PPQ' :\n",
    "1. Range 0.018660 and std dev 0.002759 suggests that the spread of the data is large\n",
    "2. Kurtosis 11.963922 is one of the highest amongst all 22 variables of the data set indicates a strong tail or large data distribution around the tail. This needs treatment\n",
    "3. Skewness is 3.073892 suggests that the data is positively skewed. The strength of the skewness is high & hence if this feature is used as predictor, transformation is required\n",
    "4. Box plot suggests that there are outliers and this needs treatment before building model\n",
    "5. The distribution plot indicates small peaks at the long tail indicating possible gaussian miture however since its small, this may or may not impact models\n",
    "\n",
    "'Jitter:DDP' :\n",
    "1. Range 0.062290 and std dev 0.008903 suggests that the spread of the data is large\n",
    "2. Kurtosis 14.224762 is the 2nd highest amongst all 22 variables of the data set indicates a strong tail or large data distribution around the tail. This needs treatment\n",
    "3. Skewness is 3.362058 suggests that the data is positively skewed. The strength of the skewness is high & hence if this feature is used as predictor, transformation is required\n",
    "4. Box plot suggests that there are outliers and this needs treatment before building model\n",
    "5. Distribution plot clearly shows the inference made through Skewness and Kurtosis, the long tail and +ve skewness is very evident\n",
    "\n",
    "'MDVP:Shimmer' : \n",
    "1. Range 0.109540 and std dev 0.018857 suggests that there is a wide spread of data given the scale of data points\n",
    "2. Kurtosis 3.238308 shows there is a small tail or data is distributed along the tail. Though this is small it requires treatment\n",
    "3. Skewness is 1.666480 suggests positive skewness of data. THis is evident in distribution plot and box plot. Data transformation is required to handle this skewness\n",
    "4. The outliers are quite a number for this variable and is evident in box plot. This will have to be treated before model building\n",
    "\n",
    "'MDVP:Shimmer(dB)' : \n",
    "1. Range 1.217000 and std dev 0.194877 suggests that there is a wide spread of data given the scale of data points\n",
    "2. Kurtosis 5.128193 shows there is a small tail or data is distributed along the tail. Though this is small it requires treatment\n",
    "3. Skewness is 1.999389 suggests positive skewness of data. THis is evident in distribution plot and box plot. Data transformation is required to handle this skewness\n",
    "4. The outliers are quite a number for this variable and is evident in box plot. This will have to be treated before model building\n",
    "\n",
    "'Shimmer:APQ3' :\n",
    "1. Range 0.051920 and std dev 0.010153 suggests that there is a wide spread of data given the scale of data points\n",
    "2. Kurtosis 2.720152 shows there is a small tail or data is distributed along the tail. Though this is small it requires treatment\n",
    "3. Skewness is 1.580576 suggests positive skewness of data. THis is evident in distribution plot and box plot. Data transformation is required to handle this skewness\n",
    "4. The outliers are few for this variable and is evident in box plot. This will have to be treated before model building\n",
    "\n",
    "'Shimmer:APQ5' : \n",
    "1. Range 0.073700 and std dev 0.012024 suggests that there is a wide spread of data given the scale of data points\n",
    "2. Kurtosis 3.874210 shows there is a small tail or data is distributed along the tail. Though this is small it requires treatment\n",
    "3. Skewness is 1.798697 suggests positive skewness of data. THis is evident in distribution plot and box plot. Data transformation is required to handle this skewness\n",
    "4. The outliers are few for this variable and is evident in box plot. This will have to be treated before model building\n",
    "5. The distribution plot indicates small peaks at the long tail indicating possible gaussian miture however since its small, this may or may not impact models\n",
    "\n",
    "'MDVP:APQ' : \n",
    "1. Range 0.130590 and std dev 0.016947 suggests that there is a wide spread of data given the scale of data points\n",
    "2. Kurtosis 11.163288 is one of the highest amongst all 22 variables of the data set indicates a strong tail or large data distribution around the tail. This needs treatment\n",
    "3. Skewness is 2.618047 suggests positive skewness of data. THis is evident in distribution plot and box plot. Data transformation is required to handle this skewness\n",
    "4. The outliers are few for this variable and is evident in box plot. This will have to be treated before model building\n",
    "\n",
    "'Shimmer:DDA' : \n",
    "1. Range 0.155780 and std dev 0.030459 suggests that there is a wide spread of data given the scale of data points\n",
    "2. Kurtosis 2.720661 shows there is a small tail or data is distributed along the tail. Though this is small it requires treatment\n",
    "3. Skewness is 1.580618 suggests positive skewness of data. THis is evident in distribution plot and box plot. Data transformation is required to handle this skewness\n",
    "4. The outliers are few for this variable and is evident in box plot. This will have to be treated before model building\n",
    "\n",
    "'NHR' :\n",
    "1. Range 0.314170 and std dev 0.040418 suggests that there is a wide spread of data given the scale of data points\n",
    "2. Kurtosis 21.994974 is the highest amongst all 22 variables of the data set indicates a strong tail or large data distribution around the tail. This needs treatment\n",
    "3. Skewness is 4.220709 is the highest amongst all 22 variables shows strong positive skewness of data. THis is evident in distribution plot and box plot.\n",
    "   Data transformation is required to handle this skewness\n",
    "4. This variables has quite a lot of outliers and this will have to treated before model building\n",
    "\n",
    "'HNR' :\n",
    "1. Range 24.606000 and std dev 4.425764 suggests that there is a wide spread of data given the scale of data points\n",
    "2. Kurtosis 0.616036 shows there is a small tail or data is distributed along the tail. Though this is small it requires treatment\n",
    "3. Skewness is -0.514317 suggests negative skewness of data. This is evident in distribution plot and box plot. Data transformation is required to handle this skewness\n",
    "4. The outliers are few for this variable and is evident in box plot. This will have to be treated before model building\n",
    "5. The distribution of data shows a small double peak indicating a possible gaussian mixture. This however is a risk that needs to be accepted for this project\n",
    "\n",
    "'RPDE' :\n",
    "1. Range 0.428581 and std dev 0.103942 suggests that there is a wide spread of data given the scale of data points\n",
    "2. Kurtosis -0.921781 suggests light tails or less data is distributed around the tails. However this is not a strong negative and hence a thin tail can be observed\n",
    "3. Skewness is -0.143402 suggests negative skewness of data. This is evident in distribution plot and box plot. Data transformation is required to handle this skewness\n",
    "4. Boxplot shows there are no outliers and hence no special treatment required\n",
    "5. The distribution of data shows a  double peak indicating a possible gaussian mixture. This however is a risk that needs to be accepted for this project\n",
    "\n",
    "'DFA' : \n",
    "1. Range 0.251006 and std dev 0.055336 suggests that there is a wide spread of data given the scale of data points\n",
    "2. Kurtosis -0.686152 suggests light tails or less data is distributed around the tails. However this is not a strong negative and hence a thin tail can be observed\n",
    "3. Skewness is -0.033214 suggests negative skewness of data. This is evident in distribution plot and box plot. Data transformation is required to handle this skewness\n",
    "4. Boxplot shows there are no outliers and hence no special treatment required\n",
    "5. The distribution of data shows a  double peak indicating a possible gaussian mixture. This however is a risk that needs to be accepted for this project\n",
    "\n",
    "'spread1' :\n",
    "1. Range 5.530953 and std dev 1.090208 suggests that there is a wide spread of data given the scale of data points\n",
    "2. Kurtosis 0.050199 suggests light tails or less data is distributed around the tails. However this is not a strong negative and hence a thin tail can be observed\n",
    "3. Skewness is 0.432139 suggests positive skewness of data. This is evident in distribution plot and box plot. Data transformation is required to handle this skewness\n",
    "4. The outliers are few for this variable and is evident in box plot. This will have to be treated before model building\n",
    "5. The distribution of data shows a a good symmetry when compared. \n",
    "\n",
    "'spread2' :\n",
    "1. Range 0.444219 and std dev 0.083406 suggests that there is a wide spread of data given the scale of data points\n",
    "2. Kurtosis -0.083023 suggests light tails or less data is distributed around the tails. However this is not a strong negative and hence a thin tail can be observed\n",
    "3. Skewness is 0.144430 suggests positive skewness of data. This is evident in distribution plot and box plot. Data transformation is required to handle this skewness\n",
    "4. The outliers are two data point for this variable and is evident in box plot. This will have to be treated before model building\n",
    "5. The distribution of data shows a a good symmetry when compared. \n",
    "\n",
    "'D2' : \n",
    "1. Range 2.247868 and Std Dev 0.382799 suggests that there is a large spread of data from the median and the data may have outliers\n",
    "2. Kurtosis 0.220334 suggests that there is a heavy tail and more data points are distributed around the tail. This is evident in the box plot\n",
    "3. Skewness 0.430384 suggests that the data is positively skewed. The strength of the skewness is high and hence if this feature is used as predictor, transformation is required\n",
    "4. The outliers is only one data point for this variable and is evident in box plot. This will have to be treated before model building\n",
    "5. The distribution of data shows a a good symmetry when compared. \n",
    "\n",
    "'PPE' :\n",
    "1. Range 0.482828 and Std Dev 0.090119 suggests that there is a large spread of data from the median and the data may have outliers\n",
    "2. Kurtosis 0.528335 suggests that there is a heavy tail and more data points are distributed around the tail. This is evident in the box plot\n",
    "3. Skewness 0.797491 suggests that the data is positively skewed. The strength of the skewness is high and hence if this feature is used as predictor, transformation is required\n",
    "4. The outliers are few for this variable and is evident in box plot. This will have to be treated before model building\n",
    "\n",
    "The features are of different scales and hence normalization - scalar, log or exp may have to be done"
   ]
  },
  {
   "cell_type": "code",
   "execution_count": null,
   "metadata": {},
   "outputs": [],
   "source": [
    "sns.pairplot(Source[['MDVP:Fo(Hz)', 'MDVP:Fhi(Hz)', 'MDVP:Flo(Hz)', 'MDVP:Jitter(%)',\n",
    "       'MDVP:Jitter(Abs)', 'MDVP:RAP', 'MDVP:PPQ', 'Jitter:DDP',\n",
    "       'MDVP:Shimmer', 'MDVP:Shimmer(dB)', 'Shimmer:APQ3', 'Shimmer:APQ5',\n",
    "       'MDVP:APQ', 'Shimmer:DDA']])"
   ]
  },
  {
   "cell_type": "code",
   "execution_count": null,
   "metadata": {},
   "outputs": [],
   "source": [
    "EDA.EDA_Corr(Source)"
   ]
  },
  {
   "cell_type": "markdown",
   "metadata": {},
   "source": [
    "Correlation Analysis Inference :\n",
    "\n",
    "1. 7 out of 22 Variables - MDVP:Fhi(Hz), DFA, MDVP:Fo(Hz), MDVP:Flo(Hz)\t, RPDE, spread2, D2 have less correlationships with other Xs. This means that they can be \n",
    "   potentially a good predictor\n",
    "2. 14 out of 22 Variables - PPE, spread1, MDVP:APQ, MDVP:Shimmer, MDVP:Shimmer(dB), Shimmer:APQ5, MDVP:PPQ, Jitter:DDP, MDVP:RAP, MDVP:Jitter(Abs), Shimmer:APQ3, \n",
    "   MDVP:Jitter(%), Shimmer:DDA, NHR are influenced by other variables & each other positively. This means there can be an infleuncing factor compounded may resulting\n",
    "   in all or some of them being poor predictors. During model building, these will have to be used judiciously\n",
    "3. HNR is one variable which has inverse relationship with 16 out of remaining 21 variables. This again will have to be used judiciously during model building"
   ]
  }
 ],
 "metadata": {
  "kernelspec": {
   "display_name": "Python 3",
   "language": "python",
   "name": "python3"
  },
  "language_info": {
   "codemirror_mode": {
    "name": "ipython",
    "version": 3
   },
   "file_extension": ".py",
   "mimetype": "text/x-python",
   "name": "python",
   "nbconvert_exporter": "python",
   "pygments_lexer": "ipython3",
   "version": "3.6.5"
  }
 },
 "nbformat": 4,
 "nbformat_minor": 2
}
